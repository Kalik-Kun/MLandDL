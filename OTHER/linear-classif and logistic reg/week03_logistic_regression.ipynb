{
 "cells": [
  {
   "cell_type": "markdown",
   "metadata": {},
   "source": [
    "# Part 1. Vanilla logistic regression"
   ]
  },
  {
   "cell_type": "markdown",
   "metadata": {},
   "source": [
    "## Recap.\n",
    "\n",
    "### Sigmoid function\n",
    "\n",
    "$$ \\sigma(h) = \\frac{1}{1 + exp(-h)} $$\n",
    "$$ \\sigma(x, w) = \\frac{1}{1 + exp(-<x, w>)} $$\n",
    "\n",
    "### Class predictions\n",
    "\n",
    "$$ P(y = 1 | x, w) = \\sigma(x, w) $$\n",
    "\n",
    "### Log Loss\n",
    "\n",
    "$$ L(y, p) = - \\frac{1}{m}\\sum_{1}^{m}(y_i log(p_i) + (1 - y_i) log(1 - p_i)) $$\n",
    "\n",
    "### Training\n",
    "\n",
    "$$ Q = L(y, p) = L(w) \\rightarrow min $$\n",
    "<br>\n",
    "$$ \\frac{dQ}{dw} = ??? $$\n",
    "<br>\n",
    "<center>Use chain rule and sigmoid function properties!</center>"
   ]
  },
  {
   "cell_type": "code",
   "execution_count": 15,
   "metadata": {},
   "outputs": [],
   "source": [
    "import numpy as np\n",
    "import sklearn\n",
    "from sklearn.datasets import make_classification\n",
    "\n",
    "from matplotlib import pyplot as plt\n",
    "%matplotlib inline"
   ]
  },
  {
   "cell_type": "code",
   "execution_count": 20,
   "metadata": {},
   "outputs": [
    {
     "data": {
      "text/plain": [
       "1"
      ]
     },
     "execution_count": 20,
     "metadata": {},
     "output_type": "execute_result"
    }
   ],
   "source": [
    "a = 0.7\n",
    "\n",
    "(a > 0.5) * 1"
   ]
  },
  {
   "cell_type": "code",
   "execution_count": 139,
   "metadata": {},
   "outputs": [],
   "source": [
    "def logit(x, w):\n",
    "    return x.dot(w);\n",
    "\n",
    "def sigmoid(h):\n",
    "    return 1/(1 + np.exp(-h))"
   ]
  },
  {
   "cell_type": "code",
   "execution_count": 143,
   "metadata": {},
   "outputs": [],
   "source": [
    "class VanillaLogisticRegression(object):\n",
    "    '''\n",
    "    A simple logistic regression for binary classification with gradient descent\n",
    "    '''\n",
    "    \n",
    "    def __init__(self, learning_rate=0.1, max_iter=100000, tolerance=1e-15):\n",
    "        # Learning rate for gradient descent\n",
    "        self._lr = learning_rate\n",
    "        \n",
    "        self._max_iter = max_iter\n",
    "        \n",
    "        # How often to print validation info\n",
    "        self._validation_freq = 5000\n",
    "        \n",
    "        # Convergence criteria\n",
    "        self._tolerance = tolerance\n",
    "        \n",
    "        \n",
    "    def fit(self, X, y):\n",
    "        # Add extra dummy feature (x[0] = 1) for bias in linear regression\n",
    "        X = self.__add_intercept(X)\n",
    "        n_objects, n_features = X.shape\n",
    "        \n",
    "        # Initialize randomly\n",
    "        self._weights = np.random.random(n_features)\n",
    "        \n",
    "        # Iterative gradient descent\n",
    "        for i in range(self._max_iter):\n",
    "            '''\n",
    "            Compute logits, gradient, and update weights\n",
    "            '''\n",
    "            h = logit(X, self._weights)\n",
    "            z = sigmoid(h)\n",
    "#             Тут производная лоса равна \n",
    "            grad = np.mean(-X * np.vstack(y - z), axis=0)\n",
    "            self._weights -= self._lr * grad\n",
    "#             я хз че тут писать\n",
    "            if np.max(np.abs(grad)) <= self._tolerance:\n",
    "                print(\"Converged in {} iterations!\".format(i))\n",
    "                break\n",
    "            \n",
    "            if i % self._validation_freq == 0:\n",
    "                # Compute probabilities\n",
    "                p = sigmoid(h)\n",
    "                \n",
    "                # Clip values for numeric stability in logarithm\n",
    "                p = np.clip(p, 1e-10, 1 - 1e-10)\n",
    "                \n",
    "                # Compute log loss and accuracy\n",
    "                loss = self.__loss(y, p)\n",
    "                acc = np.mean((p >= 0.5) == y)\n",
    "                \n",
    "                print(\"Iteration {}: Loss = {}. Accuracy = {}\".format(i, loss, acc))\n",
    "\n",
    "        \n",
    "    def predict(self, X, threshold=0.5):\n",
    "        X = self.__add_intercept(X)\n",
    "        pred = sigmoid(logit(X, self._weights))\n",
    "        return (pred >= threshold) * 1\n",
    "    \n",
    "    \n",
    "    def predict_proba(self, X):\n",
    "        X = self.__add_intercept(X)\n",
    "        \n",
    "        return sigmoid(logit(X, self._weights))\n",
    "    \n",
    "    \n",
    "    def __add_intercept(self, X):\n",
    "        return np.concatenate((np.ones((X.shape[0], 1)), X), axis=1)\n",
    "    \n",
    "    \n",
    "    def __loss(self, y, p):\n",
    "        return np.mean(-(y * np.log(p) + (1 - y) * np.log(1 - p)) / y.shape[0])"
   ]
  },
  {
   "cell_type": "code",
   "execution_count": 144,
   "metadata": {},
   "outputs": [],
   "source": [
    "X, y = sklearn.datasets.make_classification(n_features=2, n_informative=2, n_redundant=0, random_state=0)"
   ]
  },
  {
   "cell_type": "code",
   "execution_count": null,
   "metadata": {},
   "outputs": [],
   "source": []
  },
  {
   "cell_type": "code",
   "execution_count": 145,
   "metadata": {},
   "outputs": [
    {
     "name": "stdout",
     "output_type": "stream",
     "text": [
      "Iteration 0: Loss = 0.006146022026879441. Accuracy = 0.64\n",
      "Iteration 5000: Loss = 0.0026070218253872956. Accuracy = 0.93\n",
      "Iteration 10000: Loss = 0.0026070218161827175. Accuracy = 0.93\n",
      "Iteration 15000: Loss = 0.002607021816182717. Accuracy = 0.93\n",
      "Iteration 20000: Loss = 0.002607021816182717. Accuracy = 0.93\n",
      "Iteration 25000: Loss = 0.002607021816182717. Accuracy = 0.93\n",
      "Iteration 30000: Loss = 0.002607021816182717. Accuracy = 0.93\n",
      "Iteration 35000: Loss = 0.002607021816182717. Accuracy = 0.93\n",
      "Iteration 40000: Loss = 0.002607021816182717. Accuracy = 0.93\n",
      "Iteration 45000: Loss = 0.002607021816182717. Accuracy = 0.93\n",
      "Iteration 50000: Loss = 0.002607021816182717. Accuracy = 0.93\n",
      "Iteration 55000: Loss = 0.002607021816182717. Accuracy = 0.93\n",
      "Iteration 60000: Loss = 0.002607021816182717. Accuracy = 0.93\n",
      "Iteration 65000: Loss = 0.002607021816182717. Accuracy = 0.93\n",
      "Iteration 70000: Loss = 0.002607021816182717. Accuracy = 0.93\n",
      "Iteration 75000: Loss = 0.002607021816182717. Accuracy = 0.93\n",
      "Iteration 80000: Loss = 0.002607021816182717. Accuracy = 0.93\n",
      "Iteration 85000: Loss = 0.002607021816182717. Accuracy = 0.93\n",
      "Iteration 90000: Loss = 0.002607021816182717. Accuracy = 0.93\n",
      "Iteration 95000: Loss = 0.002607021816182717. Accuracy = 0.93\n",
      "[0.99809371 3.35588318 0.70223695]\n"
     ]
    }
   ],
   "source": [
    "clf = VanillaLogisticRegression()\n",
    "\n",
    "clf.fit(X, y)\n",
    "\n",
    "print(clf._weights)\n",
    "a, b, c = clf._weights"
   ]
  },
  {
   "cell_type": "code",
   "execution_count": null,
   "metadata": {},
   "outputs": [],
   "source": [
    "# хз почему но acc выше 93 не поднимается без регулизации"
   ]
  },
  {
   "cell_type": "code",
   "execution_count": 136,
   "metadata": {},
   "outputs": [
    {
     "name": "stderr",
     "output_type": "stream",
     "text": [
      "<ipython-input-136-4e4e8b345bf0>:7: MatplotlibDeprecationWarning: shading='flat' when X and Y have the same dimensions as C is deprecated since 3.3.  Either specify the corners of the quadrilaterals with X and Y, or pass shading='auto', 'nearest' or 'gouraud', or set rcParams['pcolor.shading'].  This will become an error two minor releases later.\n",
      "  plt.pcolormesh(xx, yy, pred, cmap=ListedColormap(['#AAAAFF','#FFAFAF']))\n"
     ]
    },
    {
     "data": {
      "image/png": "[encoded data removed]",
      "text/plain": [
       "<Figure size 864x432 with 1 Axes>"
      ]
     },
     "metadata": {
      "needs_background": "light"
     },
     "output_type": "display_data"
    }
   ],
   "source": [
    "from matplotlib.colors import ListedColormap\n",
    "\n",
    "fig = plt.figure(figsize=(12, 6))\n",
    "xx, yy = np.meshgrid(np.linspace(-4, 4, 1000), np.linspace(-4, 4, 1000))\n",
    "pred = clf.predict(np.c_[xx.ravel(), yy.ravel()])\n",
    "pred = pred.reshape(xx.shape)\n",
    "plt.pcolormesh(xx, yy, pred, cmap=ListedColormap(['#AAAAFF','#FFAFAF']))\n",
    "\n",
    "plt.scatter(X[:,0], X[:,1], c=y)\n",
    "plt.grid()\n",
    "\n",
    "plt.show()"
   ]
  },
  {
   "cell_type": "code",
   "execution_count": 137,
   "metadata": {},
   "outputs": [
    {
     "data": {
      "image/png": "[encoded data removed]",
      "text/plain": [
       "<Figure size 864x432 with 1 Axes>"
      ]
     },
     "metadata": {
      "needs_background": "light"
     },
     "output_type": "display_data"
    }
   ],
   "source": [
    "fig = plt.figure(figsize=(12, 6))\n",
    "\n",
    "plt.scatter(X[:,0], X[:,1], c=y)\n",
    "\n",
    "xx = np.linspace(-4, 4, 200)\n",
    "yy = -a / c - xx * b / c\n",
    "plt.plot(xx, yy)\n",
    "\n",
    "plt.grid()\n",
    "plt.ylim((-4, 4))\n",
    "\n",
    "plt.show()"
   ]
  },
  {
   "cell_type": "code",
   "execution_count": 138,
   "metadata": {},
   "outputs": [
    {
     "name": "stdout",
     "output_type": "stream",
     "text": [
      "[0.99741685 3.35419466 0.70175768]\n",
      "0.93\n"
     ]
    }
   ],
   "source": [
    "from sklearn.linear_model import LogisticRegression\n",
    "from sklearn.metrics import accuracy_score\n",
    "\n",
    "clf = LogisticRegression(C=1000, fit_intercept=True)\n",
    "clf.fit(X, y)\n",
    "y_predicted = clf.predict(X)\n",
    "\n",
    "print(np.append(clf.intercept_, clf.coef_))\n",
    "print(accuracy_score(y, y_predicted))"
   ]
  },
  {
   "cell_type": "markdown",
   "metadata": {},
   "source": [
    "# Part 2. Multiclass and regularization"
   ]
  },
  {
   "cell_type": "markdown",
   "metadata": {},
   "source": [
    "### Softmax function\n",
    "\n",
    "$$ SoftMax(z)_{j} = \\frac{exp(z_{j})}{\\sum{exp(z_{i})}} $$\n",
    "<br>\n",
    "$$ P(y | x, w) = SoftMax(w_{y}, x) = \\frac{exp(<w_{y}, x>)}{\\sum{exp(<w_{i}, x>)}} $$\n",
    "<br>\n",
    "$$ LogLoss(y_t, y_p) = -log P(y_t | x, w) $$\n",
    "\n",
    "### Regularization\n",
    "\n",
    "$$ Q(w) = L(w) + \\beta R(w) \\rightarrow min $$\n",
    "<br>\n",
    "<br>\n",
    "$$ R(w) = ||w||_{1} $$\n",
    "<br>\n",
    "$$ R(w) = ||w||_{2} $$\n",
    "<br>\n",
    "$$ R(w) = \\lambda ||w||_{1} + (1 - \\lambda) ||w||_{2} $$"
   ]
  },
  {
   "cell_type": "markdown",
   "metadata": {},
   "source": [
    "### Bonus area!"
   ]
  },
  {
   "cell_type": "code",
   "execution_count": 9,
   "metadata": {
    "collapsed": true
   },
   "outputs": [],
   "source": [
    "class MulticlassLogisticRegression(LogisticRegression):\n",
    "    def __init__(self, learning_rate=0.1, max_iter=100000, tolerance=1e-15, regularization_strength=1.0):\n",
    "        super().__init__(learning_rate, max_iter, tolerance)\n",
    "        \n",
    "        pass\n",
    "    \n",
    "    def fit(self, X, y):\n",
    "        pass"
   ]
  },
  {
   "cell_type": "code",
   "execution_count": null,
   "metadata": {
    "collapsed": true
   },
   "outputs": [],
   "source": [
    "# напсиать мультикласс когда буду готов"
   ]
  }
 ],
 "metadata": {
  "kernelspec": {
   "display_name": "Python 3",
   "language": "python",
   "name": "python3"
  },
  "language_info": {
   "codemirror_mode": {
    "name": "ipython",
    "version": 3
   },
   "file_extension": ".py",
   "mimetype": "text/x-python",
   "name": "python",
   "nbconvert_exporter": "python",
   "pygments_lexer": "ipython3",
   "version": "3.8.5"
  }
 },
 "nbformat": 4,
 "nbformat_minor": 2
}
